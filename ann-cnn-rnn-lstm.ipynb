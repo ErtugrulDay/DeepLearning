{
 "cells": [
  {
   "cell_type": "code",
   "execution_count": 3,
   "metadata": {},
   "outputs": [
    {
     "data": {
      "text/html": [
       "<div>\n",
       "<style scoped>\n",
       "    .dataframe tbody tr th:only-of-type {\n",
       "        vertical-align: middle;\n",
       "    }\n",
       "\n",
       "    .dataframe tbody tr th {\n",
       "        vertical-align: top;\n",
       "    }\n",
       "\n",
       "    .dataframe thead th {\n",
       "        text-align: right;\n",
       "    }\n",
       "</style>\n",
       "<table border=\"1\" class=\"dataframe\">\n",
       "  <thead>\n",
       "    <tr style=\"text-align: right;\">\n",
       "      <th></th>\n",
       "      <th>ulke</th>\n",
       "      <th>boy</th>\n",
       "      <th>kilo</th>\n",
       "      <th>yas</th>\n",
       "      <th>cinsiyet</th>\n",
       "    </tr>\n",
       "  </thead>\n",
       "  <tbody>\n",
       "    <tr>\n",
       "      <th>0</th>\n",
       "      <td>tr</td>\n",
       "      <td>130</td>\n",
       "      <td>30</td>\n",
       "      <td>10</td>\n",
       "      <td>e</td>\n",
       "    </tr>\n",
       "    <tr>\n",
       "      <th>1</th>\n",
       "      <td>tr</td>\n",
       "      <td>125</td>\n",
       "      <td>36</td>\n",
       "      <td>11</td>\n",
       "      <td>e</td>\n",
       "    </tr>\n",
       "    <tr>\n",
       "      <th>2</th>\n",
       "      <td>tr</td>\n",
       "      <td>135</td>\n",
       "      <td>34</td>\n",
       "      <td>10</td>\n",
       "      <td>k</td>\n",
       "    </tr>\n",
       "    <tr>\n",
       "      <th>3</th>\n",
       "      <td>tr</td>\n",
       "      <td>133</td>\n",
       "      <td>30</td>\n",
       "      <td>9</td>\n",
       "      <td>k</td>\n",
       "    </tr>\n",
       "    <tr>\n",
       "      <th>4</th>\n",
       "      <td>tr</td>\n",
       "      <td>129</td>\n",
       "      <td>38</td>\n",
       "      <td>12</td>\n",
       "      <td>e</td>\n",
       "    </tr>\n",
       "    <tr>\n",
       "      <th>5</th>\n",
       "      <td>tr</td>\n",
       "      <td>180</td>\n",
       "      <td>90</td>\n",
       "      <td>30</td>\n",
       "      <td>e</td>\n",
       "    </tr>\n",
       "    <tr>\n",
       "      <th>6</th>\n",
       "      <td>tr</td>\n",
       "      <td>190</td>\n",
       "      <td>80</td>\n",
       "      <td>25</td>\n",
       "      <td>e</td>\n",
       "    </tr>\n",
       "    <tr>\n",
       "      <th>7</th>\n",
       "      <td>tr</td>\n",
       "      <td>175</td>\n",
       "      <td>90</td>\n",
       "      <td>35</td>\n",
       "      <td>e</td>\n",
       "    </tr>\n",
       "    <tr>\n",
       "      <th>8</th>\n",
       "      <td>tr</td>\n",
       "      <td>177</td>\n",
       "      <td>60</td>\n",
       "      <td>22</td>\n",
       "      <td>k</td>\n",
       "    </tr>\n",
       "    <tr>\n",
       "      <th>9</th>\n",
       "      <td>us</td>\n",
       "      <td>185</td>\n",
       "      <td>105</td>\n",
       "      <td>33</td>\n",
       "      <td>e</td>\n",
       "    </tr>\n",
       "    <tr>\n",
       "      <th>10</th>\n",
       "      <td>us</td>\n",
       "      <td>165</td>\n",
       "      <td>55</td>\n",
       "      <td>27</td>\n",
       "      <td>k</td>\n",
       "    </tr>\n",
       "    <tr>\n",
       "      <th>11</th>\n",
       "      <td>us</td>\n",
       "      <td>155</td>\n",
       "      <td>50</td>\n",
       "      <td>44</td>\n",
       "      <td>k</td>\n",
       "    </tr>\n",
       "    <tr>\n",
       "      <th>12</th>\n",
       "      <td>us</td>\n",
       "      <td>160</td>\n",
       "      <td>58</td>\n",
       "      <td>39</td>\n",
       "      <td>k</td>\n",
       "    </tr>\n",
       "    <tr>\n",
       "      <th>13</th>\n",
       "      <td>us</td>\n",
       "      <td>162</td>\n",
       "      <td>59</td>\n",
       "      <td>41</td>\n",
       "      <td>k</td>\n",
       "    </tr>\n",
       "    <tr>\n",
       "      <th>14</th>\n",
       "      <td>us</td>\n",
       "      <td>167</td>\n",
       "      <td>62</td>\n",
       "      <td>55</td>\n",
       "      <td>k</td>\n",
       "    </tr>\n",
       "    <tr>\n",
       "      <th>15</th>\n",
       "      <td>fr</td>\n",
       "      <td>174</td>\n",
       "      <td>70</td>\n",
       "      <td>47</td>\n",
       "      <td>e</td>\n",
       "    </tr>\n",
       "    <tr>\n",
       "      <th>16</th>\n",
       "      <td>fr</td>\n",
       "      <td>193</td>\n",
       "      <td>90</td>\n",
       "      <td>23</td>\n",
       "      <td>e</td>\n",
       "    </tr>\n",
       "    <tr>\n",
       "      <th>17</th>\n",
       "      <td>fr</td>\n",
       "      <td>187</td>\n",
       "      <td>80</td>\n",
       "      <td>27</td>\n",
       "      <td>e</td>\n",
       "    </tr>\n",
       "    <tr>\n",
       "      <th>18</th>\n",
       "      <td>fr</td>\n",
       "      <td>183</td>\n",
       "      <td>88</td>\n",
       "      <td>28</td>\n",
       "      <td>e</td>\n",
       "    </tr>\n",
       "    <tr>\n",
       "      <th>19</th>\n",
       "      <td>fr</td>\n",
       "      <td>159</td>\n",
       "      <td>40</td>\n",
       "      <td>29</td>\n",
       "      <td>k</td>\n",
       "    </tr>\n",
       "    <tr>\n",
       "      <th>20</th>\n",
       "      <td>fr</td>\n",
       "      <td>164</td>\n",
       "      <td>66</td>\n",
       "      <td>32</td>\n",
       "      <td>k</td>\n",
       "    </tr>\n",
       "    <tr>\n",
       "      <th>21</th>\n",
       "      <td>fr</td>\n",
       "      <td>166</td>\n",
       "      <td>56</td>\n",
       "      <td>42</td>\n",
       "      <td>k</td>\n",
       "    </tr>\n",
       "  </tbody>\n",
       "</table>\n",
       "</div>"
      ],
      "text/plain": [
       "   ulke  boy  kilo  yas cinsiyet\n",
       "0    tr  130    30   10        e\n",
       "1    tr  125    36   11        e\n",
       "2    tr  135    34   10        k\n",
       "3    tr  133    30    9        k\n",
       "4    tr  129    38   12        e\n",
       "5    tr  180    90   30        e\n",
       "6    tr  190    80   25        e\n",
       "7    tr  175    90   35        e\n",
       "8    tr  177    60   22        k\n",
       "9    us  185   105   33        e\n",
       "10   us  165    55   27        k\n",
       "11   us  155    50   44        k\n",
       "12   us  160    58   39        k\n",
       "13   us  162    59   41        k\n",
       "14   us  167    62   55        k\n",
       "15   fr  174    70   47        e\n",
       "16   fr  193    90   23        e\n",
       "17   fr  187    80   27        e\n",
       "18   fr  183    88   28        e\n",
       "19   fr  159    40   29        k\n",
       "20   fr  164    66   32        k\n",
       "21   fr  166    56   42        k"
      ]
     },
     "execution_count": 3,
     "metadata": {},
     "output_type": "execute_result"
    }
   ],
   "source": [
    "import numpy as np\n",
    "import pandas as pd\n",
    "import tensorflow as tf\n",
    "\n",
    "data=pd.read_csv(r\"C:/Users/Ertuğrul/Desktop/Veri Bilimi ve Makine Öğrenmesi (BTK)/Makine Öğrenmesi/veriler.csv\")\n",
    "data"
   ]
  },
  {
   "cell_type": "code",
   "execution_count": 4,
   "metadata": {},
   "outputs": [
    {
     "data": {
      "text/html": [
       "<div>\n",
       "<style scoped>\n",
       "    .dataframe tbody tr th:only-of-type {\n",
       "        vertical-align: middle;\n",
       "    }\n",
       "\n",
       "    .dataframe tbody tr th {\n",
       "        vertical-align: top;\n",
       "    }\n",
       "\n",
       "    .dataframe thead th {\n",
       "        text-align: right;\n",
       "    }\n",
       "</style>\n",
       "<table border=\"1\" class=\"dataframe\">\n",
       "  <thead>\n",
       "    <tr style=\"text-align: right;\">\n",
       "      <th></th>\n",
       "      <th>ulke</th>\n",
       "      <th>boy</th>\n",
       "      <th>kilo</th>\n",
       "      <th>yas</th>\n",
       "      <th>cinsiyet</th>\n",
       "    </tr>\n",
       "  </thead>\n",
       "  <tbody>\n",
       "    <tr>\n",
       "      <th>0</th>\n",
       "      <td>tr</td>\n",
       "      <td>130</td>\n",
       "      <td>30</td>\n",
       "      <td>10</td>\n",
       "      <td>1</td>\n",
       "    </tr>\n",
       "    <tr>\n",
       "      <th>1</th>\n",
       "      <td>tr</td>\n",
       "      <td>125</td>\n",
       "      <td>36</td>\n",
       "      <td>11</td>\n",
       "      <td>1</td>\n",
       "    </tr>\n",
       "    <tr>\n",
       "      <th>2</th>\n",
       "      <td>tr</td>\n",
       "      <td>135</td>\n",
       "      <td>34</td>\n",
       "      <td>10</td>\n",
       "      <td>0</td>\n",
       "    </tr>\n",
       "    <tr>\n",
       "      <th>3</th>\n",
       "      <td>tr</td>\n",
       "      <td>133</td>\n",
       "      <td>30</td>\n",
       "      <td>9</td>\n",
       "      <td>0</td>\n",
       "    </tr>\n",
       "    <tr>\n",
       "      <th>4</th>\n",
       "      <td>tr</td>\n",
       "      <td>129</td>\n",
       "      <td>38</td>\n",
       "      <td>12</td>\n",
       "      <td>1</td>\n",
       "    </tr>\n",
       "    <tr>\n",
       "      <th>5</th>\n",
       "      <td>tr</td>\n",
       "      <td>180</td>\n",
       "      <td>90</td>\n",
       "      <td>30</td>\n",
       "      <td>1</td>\n",
       "    </tr>\n",
       "    <tr>\n",
       "      <th>6</th>\n",
       "      <td>tr</td>\n",
       "      <td>190</td>\n",
       "      <td>80</td>\n",
       "      <td>25</td>\n",
       "      <td>1</td>\n",
       "    </tr>\n",
       "    <tr>\n",
       "      <th>7</th>\n",
       "      <td>tr</td>\n",
       "      <td>175</td>\n",
       "      <td>90</td>\n",
       "      <td>35</td>\n",
       "      <td>1</td>\n",
       "    </tr>\n",
       "    <tr>\n",
       "      <th>8</th>\n",
       "      <td>tr</td>\n",
       "      <td>177</td>\n",
       "      <td>60</td>\n",
       "      <td>22</td>\n",
       "      <td>0</td>\n",
       "    </tr>\n",
       "    <tr>\n",
       "      <th>9</th>\n",
       "      <td>us</td>\n",
       "      <td>185</td>\n",
       "      <td>105</td>\n",
       "      <td>33</td>\n",
       "      <td>1</td>\n",
       "    </tr>\n",
       "    <tr>\n",
       "      <th>10</th>\n",
       "      <td>us</td>\n",
       "      <td>165</td>\n",
       "      <td>55</td>\n",
       "      <td>27</td>\n",
       "      <td>0</td>\n",
       "    </tr>\n",
       "    <tr>\n",
       "      <th>11</th>\n",
       "      <td>us</td>\n",
       "      <td>155</td>\n",
       "      <td>50</td>\n",
       "      <td>44</td>\n",
       "      <td>0</td>\n",
       "    </tr>\n",
       "    <tr>\n",
       "      <th>12</th>\n",
       "      <td>us</td>\n",
       "      <td>160</td>\n",
       "      <td>58</td>\n",
       "      <td>39</td>\n",
       "      <td>0</td>\n",
       "    </tr>\n",
       "    <tr>\n",
       "      <th>13</th>\n",
       "      <td>us</td>\n",
       "      <td>162</td>\n",
       "      <td>59</td>\n",
       "      <td>41</td>\n",
       "      <td>0</td>\n",
       "    </tr>\n",
       "    <tr>\n",
       "      <th>14</th>\n",
       "      <td>us</td>\n",
       "      <td>167</td>\n",
       "      <td>62</td>\n",
       "      <td>55</td>\n",
       "      <td>0</td>\n",
       "    </tr>\n",
       "  </tbody>\n",
       "</table>\n",
       "</div>"
      ],
      "text/plain": [
       "   ulke  boy  kilo  yas  cinsiyet\n",
       "0    tr  130    30   10         1\n",
       "1    tr  125    36   11         1\n",
       "2    tr  135    34   10         0\n",
       "3    tr  133    30    9         0\n",
       "4    tr  129    38   12         1\n",
       "5    tr  180    90   30         1\n",
       "6    tr  190    80   25         1\n",
       "7    tr  175    90   35         1\n",
       "8    tr  177    60   22         0\n",
       "9    us  185   105   33         1\n",
       "10   us  165    55   27         0\n",
       "11   us  155    50   44         0\n",
       "12   us  160    58   39         0\n",
       "13   us  162    59   41         0\n",
       "14   us  167    62   55         0"
      ]
     },
     "execution_count": 4,
     "metadata": {},
     "output_type": "execute_result"
    }
   ],
   "source": [
    "E=data[data.cinsiyet==\"e\"]\n",
    "K=data[data.cinsiyet==\"k\"]\n",
    "data.cinsiyet=[1 if each==\"e\" else 0 for each in data.cinsiyet]\n",
    "data.head(15)\n",
    "# result=[]\n",
    "# for each in data.cinsiyet:\n",
    "#     if each==\"e\":\n",
    "#         result.append(1)\n",
    "#     else:\n",
    "#         result.append(0)"
   ]
  },
  {
   "cell_type": "code",
   "execution_count": 5,
   "metadata": {},
   "outputs": [
    {
     "data": {
      "text/html": [
       "<div>\n",
       "<style scoped>\n",
       "    .dataframe tbody tr th:only-of-type {\n",
       "        vertical-align: middle;\n",
       "    }\n",
       "\n",
       "    .dataframe tbody tr th {\n",
       "        vertical-align: top;\n",
       "    }\n",
       "\n",
       "    .dataframe thead th {\n",
       "        text-align: right;\n",
       "    }\n",
       "</style>\n",
       "<table border=\"1\" class=\"dataframe\">\n",
       "  <thead>\n",
       "    <tr style=\"text-align: right;\">\n",
       "      <th></th>\n",
       "      <th>boy</th>\n",
       "      <th>kilo</th>\n",
       "      <th>yas</th>\n",
       "      <th>country1</th>\n",
       "      <th>country2</th>\n",
       "      <th>country3</th>\n",
       "      <th>cinsiyet</th>\n",
       "    </tr>\n",
       "  </thead>\n",
       "  <tbody>\n",
       "    <tr>\n",
       "      <th>0</th>\n",
       "      <td>130</td>\n",
       "      <td>30</td>\n",
       "      <td>10</td>\n",
       "      <td>0.0</td>\n",
       "      <td>1.0</td>\n",
       "      <td>0.0</td>\n",
       "      <td>1</td>\n",
       "    </tr>\n",
       "    <tr>\n",
       "      <th>1</th>\n",
       "      <td>125</td>\n",
       "      <td>36</td>\n",
       "      <td>11</td>\n",
       "      <td>0.0</td>\n",
       "      <td>1.0</td>\n",
       "      <td>0.0</td>\n",
       "      <td>1</td>\n",
       "    </tr>\n",
       "    <tr>\n",
       "      <th>2</th>\n",
       "      <td>135</td>\n",
       "      <td>34</td>\n",
       "      <td>10</td>\n",
       "      <td>0.0</td>\n",
       "      <td>1.0</td>\n",
       "      <td>0.0</td>\n",
       "      <td>0</td>\n",
       "    </tr>\n",
       "    <tr>\n",
       "      <th>3</th>\n",
       "      <td>133</td>\n",
       "      <td>30</td>\n",
       "      <td>9</td>\n",
       "      <td>0.0</td>\n",
       "      <td>1.0</td>\n",
       "      <td>0.0</td>\n",
       "      <td>0</td>\n",
       "    </tr>\n",
       "    <tr>\n",
       "      <th>4</th>\n",
       "      <td>129</td>\n",
       "      <td>38</td>\n",
       "      <td>12</td>\n",
       "      <td>0.0</td>\n",
       "      <td>1.0</td>\n",
       "      <td>0.0</td>\n",
       "      <td>1</td>\n",
       "    </tr>\n",
       "  </tbody>\n",
       "</table>\n",
       "</div>"
      ],
      "text/plain": [
       "   boy  kilo  yas  country1  country2  country3  cinsiyet\n",
       "0  130    30   10       0.0       1.0       0.0         1\n",
       "1  125    36   11       0.0       1.0       0.0         1\n",
       "2  135    34   10       0.0       1.0       0.0         0\n",
       "3  133    30    9       0.0       1.0       0.0         0\n",
       "4  129    38   12       0.0       1.0       0.0         1"
      ]
     },
     "execution_count": 5,
     "metadata": {},
     "output_type": "execute_result"
    }
   ],
   "source": [
    "from sklearn.preprocessing import OneHotEncoder\n",
    "\n",
    "ohe=OneHotEncoder()\n",
    "country_encoded=ohe.fit_transform(data[[\"ulke\"]])\n",
    "\n",
    "country_encoded_df=pd.DataFrame(data=country_encoded.toarray(),columns=[\"country1\",\"country2\",\"country3\"])\n",
    "\n",
    "newdata=pd.concat([data,country_encoded_df],axis=1)\n",
    "newdata=newdata.drop([\"ulke\"],axis=1)\n",
    "newdata=newdata[[\"boy\",\"kilo\",\"yas\",\"country1\",\"country2\",\"country3\",\"cinsiyet\"]]\n",
    "newdata.head()\n",
    "\n",
    "\n"
   ]
  },
  {
   "attachments": {},
   "cell_type": "markdown",
   "metadata": {},
   "source": [
    "Veri setimi gerekli işlemleri yaparak ANN ile compile etmeye hazır hale getiriyorum... Ancak bu işlemleri yaptıktan sonra cinsiyet belirlemek için country'nin aslında gereksiz olduğu kanaatine varıyorum, boy kilo yaşa göre makineye öğretmemin daha doğru olacağı düşüncesindeyim, öğrenme amaçlı yaptığım için bu column'ları atma gereği duymadım sadece kullanmayacağım :)"
   ]
  },
  {
   "cell_type": "code",
   "execution_count": 6,
   "metadata": {},
   "outputs": [],
   "source": [
    "x=newdata.iloc[:,0:3].values\n",
    "y=newdata.cinsiyet.values"
   ]
  },
  {
   "cell_type": "code",
   "execution_count": 7,
   "metadata": {},
   "outputs": [],
   "source": [
    "from sklearn.model_selection import train_test_split\n",
    "x_train,x_test,y_train,y_test=train_test_split(x,y,test_size=0.3,random_state=0)"
   ]
  },
  {
   "cell_type": "code",
   "execution_count": 8,
   "metadata": {},
   "outputs": [],
   "source": [
    "from sklearn.preprocessing import StandardScaler\n",
    "sc=StandardScaler()\n",
    "x_train=sc.fit_transform(x_train)\n",
    "x_test=sc.transform(x_test)"
   ]
  },
  {
   "attachments": {},
   "cell_type": "markdown",
   "metadata": {},
   "source": [
    "Gizli katmanlarda genellikle input_dim'imizin yarısı kadar nöron veririz. Ancak tabii ki bu bir kural değil :)"
   ]
  },
  {
   "cell_type": "code",
   "execution_count": 9,
   "metadata": {},
   "outputs": [],
   "source": [
    "ann=tf.keras.models.Sequential()\n",
    "ann.add(tf.keras.layers.Dense(3,activation=\"relu\",input_dim=3)) #gizli katman 1"
   ]
  },
  {
   "cell_type": "code",
   "execution_count": 10,
   "metadata": {},
   "outputs": [],
   "source": [
    "ann.add(tf.keras.layers.Dense(3,activation=\"relu\")) #gizli katman 2\n",
    "ann.add(tf.keras.layers.Dense(1,activation=\"sigmoid\")) #çıkış katmanı, activation=sigmoid olurlar genellikle. 0 ile 1 arasında değer alırlar.\n"
   ]
  },
  {
   "cell_type": "code",
   "execution_count": 11,
   "metadata": {},
   "outputs": [],
   "source": [
    "ann.compile(optimizer=\"adam\",loss=\"binary_crossentropy\",metrics=[\"accuracy\"])"
   ]
  },
  {
   "cell_type": "code",
   "execution_count": 12,
   "metadata": {},
   "outputs": [
    {
     "name": "stdout",
     "output_type": "stream",
     "text": [
      "Epoch 1/10\n",
      "1/1 [==============================] - 1s 520ms/step - loss: 0.8386 - accuracy: 0.2667\n",
      "Epoch 2/10\n",
      "1/1 [==============================] - 0s 4ms/step - loss: 0.8354 - accuracy: 0.2000\n",
      "Epoch 3/10\n",
      "1/1 [==============================] - 0s 4ms/step - loss: 0.8321 - accuracy: 0.2000\n",
      "Epoch 4/10\n",
      "1/1 [==============================] - 0s 4ms/step - loss: 0.8288 - accuracy: 0.2000\n",
      "Epoch 5/10\n",
      "1/1 [==============================] - 0s 4ms/step - loss: 0.8256 - accuracy: 0.2000\n",
      "Epoch 6/10\n",
      "1/1 [==============================] - 0s 4ms/step - loss: 0.8223 - accuracy: 0.2000\n",
      "Epoch 7/10\n",
      "1/1 [==============================] - 0s 5ms/step - loss: 0.8191 - accuracy: 0.2000\n",
      "Epoch 8/10\n",
      "1/1 [==============================] - 0s 5ms/step - loss: 0.8159 - accuracy: 0.2000\n",
      "Epoch 9/10\n",
      "1/1 [==============================] - 0s 5ms/step - loss: 0.8127 - accuracy: 0.2000\n",
      "Epoch 10/10\n",
      "1/1 [==============================] - 0s 4ms/step - loss: 0.8096 - accuracy: 0.2000\n"
     ]
    },
    {
     "data": {
      "text/plain": [
       "<keras.src.callbacks.History at 0x1f0b16296c0>"
      ]
     },
     "execution_count": 12,
     "metadata": {},
     "output_type": "execute_result"
    }
   ],
   "source": [
    "ann.fit(x_train,y_train,epochs=10)"
   ]
  },
  {
   "attachments": {},
   "cell_type": "markdown",
   "metadata": {},
   "source": [
    "Amacım ANN'in nasıl kullanacağını görmekti, veri setimin çok uygun olmadığını zaten accuracy'nin hemen hemen hiç değişmemesinden de anlıyoruz :)"
   ]
  },
  {
   "cell_type": "code",
   "execution_count": 13,
   "metadata": {},
   "outputs": [
    {
     "name": "stdout",
     "output_type": "stream",
     "text": [
      "1/1 [==============================] - 0s 76ms/step\n",
      "[[0 6]\n",
      " [0 1]]\n"
     ]
    },
    {
     "data": {
      "text/plain": [
       "0.14285714285714285"
      ]
     },
     "execution_count": 13,
     "metadata": {},
     "output_type": "execute_result"
    }
   ],
   "source": [
    "y_pred=ann.predict(x_test)\n",
    "y_pred=(y_pred>0.5)\n",
    "from sklearn.metrics import confusion_matrix,accuracy_score\n",
    "cm=confusion_matrix(y_test,y_pred)\n",
    "print(cm)\n",
    "accuracy_score(y_test,y_pred)\n"
   ]
  },
  {
   "attachments": {},
   "cell_type": "markdown",
   "metadata": {},
   "source": [
    "Son olarak confusion_matrix ve accuracy_score kullanarak maksat işimizi sonuçlandırmış olalım ve kurduğumuz modelin başarılı olmadığını görelim. :)"
   ]
  },
  {
   "attachments": {},
   "cell_type": "markdown",
   "metadata": {},
   "source": [
    "----------------------------------------------------------------------------------------------------------------------------------------------------------------------------------"
   ]
  },
  {
   "attachments": {},
   "cell_type": "markdown",
   "metadata": {},
   "source": [
    "CNN ile konuyu öğrenirken aynı zamanda daha ciddi bir veri seti kullanalım."
   ]
  },
  {
   "attachments": {},
   "cell_type": "markdown",
   "metadata": {},
   "source": [
    "**CNN**"
   ]
  },
  {
   "attachments": {},
   "cell_type": "markdown",
   "metadata": {},
   "source": [
    "**Convolutional Neural Network:**\n",
    "\n",
    "-CNN'ler görüntü işleme ve desen tanıma gibi görsel veriler üzerinde başarılı sonuçlar elde etmek için kullanılan bir tür derin öğrenme modelidir.\n",
    "\n",
    "-Temel olarak farklı evrişim katmanlarından ve toplama(pooling) katmanlarından oluşurlar.\n",
    "\n",
    "-Evrişim katmanları, girdiye birer filtre uygulayarak, özellik haritalarını çıkartır. Bu sayede, giriş verisindeki özellikleri algılamaya yardımcı olurlar.\n",
    "\n",
    "-Toplama katmanları,özellik haritalarının boyutunu azaltarak, hesaplama maliyetini azaltır ve özelliklerin translasyonel özelliğe karşı hassasiyetini azaltır.Translasyonel özelliğe karşı hassasiyeti azaltmak, CNN modellerinin nesneleri farklı konumlarda tanıyabilme yeteneğini arttırır.Bu nesnelerin genellikle konumlarının değişebileceği gerçeğine dayanır.Örneğin bir köpeğin görüntüsü farklı pozisyonlarda olabilir ve modelin bu farklı pozisyonlardaki köpekleri tanıması beklenir.\n",
    "\n",
    "-CNN'ler resim sınıflandırma, nesne tespiti, yüz tanıma ve benzeri görsel işleme görevlerinde yaygın olarak kullanılırlar."
   ]
  },
  {
   "cell_type": "code",
   "execution_count": 14,
   "metadata": {},
   "outputs": [],
   "source": [
    "import tensorflow as tf\n",
    "from keras.preprocessing.image import ImageDataGenerator"
   ]
  },
  {
   "attachments": {},
   "cell_type": "markdown",
   "metadata": {},
   "source": [
    "Burada kullanılan ImageDataGenerator kütüphanesi, resimleri toplu olarak değil de sırasıyla teker teker yükleyerek belleğin daha iyi çalışmasını sağlamaktadır. ImageDataGenerator her seferinde bir resmi okuyarak o resim için öz nitelik haritası çıkaracaktır."
   ]
  },
  {
   "cell_type": "code",
   "execution_count": 85,
   "metadata": {},
   "outputs": [
    {
     "name": "stdout",
     "output_type": "stream",
     "text": [
      "Found 20000 images belonging to 2 classes.\n"
     ]
    }
   ],
   "source": [
    "train_datagen=ImageDataGenerator(rescale=1./255,\n",
    "                                 shear_range=0.2,\n",
    "                                 zoom_range=0.2,\n",
    "                                 horizontal_flip=True)\n",
    "training_set=train_datagen.flow_from_directory(\"C:\\\\Users\\\\Ertuğrul\\\\Desktop\\\\Veri Bilimi ve Makine Öğrenmesi (BTK)\\\\Makine Öğrenmesi\\\\CNN-RNN-LSTM\\\\train\",\n",
    "                                               target_size=(64,64),\n",
    "                                               batch_size=32,\n",
    "                                               class_mode=\"binary\")"
   ]
  },
  {
   "attachments": {},
   "cell_type": "markdown",
   "metadata": {},
   "source": [
    "rescale:Görüntü piksellerinin ölçeklendirilmesini kontrol eder. 1./255 ifadesi, görüntü piksellerinin 0 ile 1 arasında olacak şekilde yeniden ölçeklenmesini sağlar.\n",
    "\n",
    "rotation_range:Görüntüleri rastgele döndürme açısı aralığını belirler.genellikle 0 ila 45 derece arasında kullanılır.Daha büyük değerler, görüntülerin daha fazla döndürülmesine ve çeşitlendirilmesine yol açar.\n",
    "\n",
    "width_shift_range ve height_shift_range: Görüntülerin yatay ve dikey yönde rastgele kaydırma aralığını belirler. Genellikle 0.1 ile 0.2 arasında bir değer kullanılır.\n",
    "\n",
    "shear_range:Görüntüleri rastgele şekil değiştirme aralığını belirler.genellikle   0.1-0.2 aralığı\n",
    "\n",
    "zoom_range:Görüntüleri rastgele yakınlaştırma ve uzaklaştırma aralığını belirler. Genellikle 0.1-0.2 aralığı.\n",
    "\n",
    "horizontal_flip ve vertical_flip:Görüntülerin yatay veya dikey olarak rastgele çevrilip çevrilmeyeceğini belirler.\n",
    "\n",
    "fill_mode:Görüntülerin dönüştürdükten veya genişlettikten sonra oluşan boş piksellerin nasıl doldurulacağını belirler.genellikle nearest veya constant olarak belirlenir. nearest, boşlukları en yakın komşu piksel değerleriyle doldurur. constant, belirtilen bir sabit değerle doldurur.\n",
    "\n",
    "\n"
   ]
  },
  {
   "cell_type": "code",
   "execution_count": null,
   "metadata": {},
   "outputs": [
    {
     "name": "stdout",
     "output_type": "stream",
     "text": [
      "Found 5000 images belonging to 2 classes.\n"
     ]
    }
   ],
   "source": [
    "test_datagen=ImageDataGenerator(rescale=1./255)\n",
    "test_set=test_datagen.flow_from_directory(\"C:\\\\Users\\\\Ertuğrul\\\\Desktop\\\\Veri Bilimi ve Makine Öğrenmesi (BTK)\\\\Makine Öğrenmesi\\\\CNN-RNN-LSTM\\\\test\",\n",
    "                                          target_size=(64,64),\n",
    "                                          batch_size=32,\n",
    "                                          class_mode=\"binary\")"
   ]
  },
  {
   "attachments": {},
   "cell_type": "markdown",
   "metadata": {},
   "source": [
    "------------------------------------ flow_from_directory parametreleri:\n",
    "\n",
    "target_size:Görüntülerin hedef boyutunu belirtir.Genellikle (height,width) şeklinde bir tuple olarak verilir.\n",
    "\n",
    "batch_size: Her bir eğitim döngüsünde işlenecek örnek sayısını belirtir.\n",
    "\n",
    "class_mode:Veri setinin sınıflandırma tipini belirtir.Sınıflandırma yapıalcaksa \"binary\" veya \"categorical\" olarak belirtilir.\n",
    "\n",
    "shuffle:Veri setinin karıştırılıp karıştırılmayacağını belirtir.Genellikle True olarak ayarlanır."
   ]
  },
  {
   "cell_type": "code",
   "execution_count": null,
   "metadata": {},
   "outputs": [],
   "source": [
    "cnn=tf.keras.models.Sequential()"
   ]
  },
  {
   "attachments": {},
   "cell_type": "markdown",
   "metadata": {},
   "source": [
    "**1-Convolutional**"
   ]
  },
  {
   "cell_type": "code",
   "execution_count": null,
   "metadata": {},
   "outputs": [],
   "source": [
    "cnn.add(tf.keras.layers.Conv2D(filters=32,kernel_size=3,activation=\"relu\",input_shape=[64,64,3]))"
   ]
  },
  {
   "attachments": {},
   "cell_type": "markdown",
   "metadata": {},
   "source": [
    "**Conv2D katmanı parametreleri:**\n",
    "\n",
    "filters: kullanılan filtre sayısını belirtir.filtreler, görüntü üzerinde belirli özellikleri yakalamak için kullanılır.Her bir filtre girdideki farklı özellikleri algılamaya çalışır. Bu sayı yükseldikçe modelin karmaşık özellikleri öğrenme yeteneği artacaktır ancak filtre arttıkça da daha büyük hesaplama gücü ortaya çıkmış olacaktır.\n",
    "\n",
    "kernel_size:kullanılan filtrenin boyutu. 3x3'lük filtre kullanılmış.\n",
    "\n",
    "activation: aktivasyon fonksiyonunu belirtir.relu, pozitif girişleri doğrudan geçirirken negatif girişleri sıfıra eşitler.\n",
    "\n",
    "input_shape:girdi görüntüsünün boyutunu belirtir. 64*64 boyutunda ve 3 kanallı(RGB)bir görüntü kullanıldığını gösterir.modelin yalnızca ilk katmanında kullanılır ve geri kalan katmanlar bu şekil bilgisini otomatik olarak alır."
   ]
  },
  {
   "attachments": {},
   "cell_type": "markdown",
   "metadata": {},
   "source": [
    "**2-Pooling**"
   ]
  },
  {
   "cell_type": "code",
   "execution_count": null,
   "metadata": {},
   "outputs": [],
   "source": [
    "cnn.add(tf.keras.layers.MaxPool2D(pool_size=2,strides=2))"
   ]
  },
  {
   "attachments": {},
   "cell_type": "markdown",
   "metadata": {},
   "source": [
    "pool_size: pooling işleminde kullanılan pencerenin boyutunu belirtir. =2 ifadesi, 2x2 boyutunda bir pencerenin kullanıldığını gösterir.\n",
    "\n",
    "strides: Bu parametre, pooling işleminin kaç birimle kaydıralacağını belirtir. =2 ifadesi, pooling işleminin her iki boyutta da 2 birimle kaydıralacağını gösterir. strides(1,2) gibi bir şey yaparsak dikeyde 1 yatayda 2 birim kaydırmış oluruz\n"
   ]
  },
  {
   "attachments": {},
   "cell_type": "markdown",
   "metadata": {},
   "source": [
    "**3-İkinci convolutional katman ve pooling**\n"
   ]
  },
  {
   "cell_type": "code",
   "execution_count": null,
   "metadata": {},
   "outputs": [],
   "source": [
    "cnn.add(tf.keras.layers.Conv2D(filters=32,kernel_size=3,activation=\"relu\"))\n",
    "cnn.add(tf.keras.layers.MaxPool2D(pool_size=2,strides=2))"
   ]
  },
  {
   "attachments": {},
   "cell_type": "markdown",
   "metadata": {},
   "source": [
    "**4-Flattening**\n"
   ]
  },
  {
   "cell_type": "code",
   "execution_count": null,
   "metadata": {},
   "outputs": [],
   "source": [
    "cnn.add(tf.keras.layers.Flatten())"
   ]
  },
  {
   "attachments": {},
   "cell_type": "markdown",
   "metadata": {},
   "source": [
    "**5-Full Connection**"
   ]
  },
  {
   "cell_type": "code",
   "execution_count": null,
   "metadata": {},
   "outputs": [],
   "source": [
    "cnn.add(tf.keras.layers.Dense(units=128,activation=\"relu\"))"
   ]
  },
  {
   "attachments": {},
   "cell_type": "markdown",
   "metadata": {},
   "source": [
    "Kaç katman olacağı units metodu ile 128 olarak belirlenmiştir.Buradaki parametre resimler 64x64 boyutunda olduğu için 128 olarak belirlenmiştir."
   ]
  },
  {
   "attachments": {},
   "cell_type": "markdown",
   "metadata": {},
   "source": [
    "**6-Çıkış Katmanı**"
   ]
  },
  {
   "cell_type": "code",
   "execution_count": null,
   "metadata": {},
   "outputs": [],
   "source": [
    "cnn.add(tf.keras.layers.Dense(units=1,activation=\"sigmoid\"))"
   ]
  },
  {
   "attachments": {},
   "cell_type": "markdown",
   "metadata": {},
   "source": [
    "**Derleme İşlemi**"
   ]
  },
  {
   "cell_type": "code",
   "execution_count": null,
   "metadata": {},
   "outputs": [],
   "source": [
    "cnn.compile(optimizer=\"adam\",loss=\"binary_crossentropy\",metrics=[\"accuracy\"])"
   ]
  },
  {
   "attachments": {},
   "cell_type": "markdown",
   "metadata": {},
   "source": [
    "compile yöntemi, bir derin öğrenme modelini eğitirken kullanılacak bazı temel parametreleri belirtmeyi sağlar.\n",
    "\n",
    "optimizer:modelin güncelleme stratejisini belirtir.Optimizasyon algoritması, modelin ağırlıklarını ve bias'larını nasıl güncelleyeceğini kontrol eder.\"adam\"(Adaptive Moment Estimation) en popüler ve sık kullanılan optimizasyon algoritmalarındandır.Adam, adaptif öğrenme hızı(learning rate) ve momentum kavramlarını birleştirerek modelin daha hızlı ve etkili öğrenmesini sağlar.\n",
    "Diğer optimizerler arasında \"sgd\"(Stochastic Gradient Descent), \"rmsprop\"(Root Mean Square Propagation) ve \"adamax\" bulunur.\n",
    "\n",
    "loss:Modelin eğitim sırasında optimize edeceği kaybı loss fonksiyonunu belirtir.Kayıp fonksiyonu modelin tahminlerini gerçek etiketlerle karşılaştırarak hatayı ölçer ve geriye doğru yayılarak ağırlıkların güncellenmesini sağlar.\"binary_crossentropy\"  sınıflandırma problemleri için sıklıkla kullanılan bir kayıp fonksiyonudur. \"categorical_crossentropy\" ise çok sınıflı sınıflandırma problemleri için kullanılır. diğer kayıp fonk: \"mean_squared_error\",\"mean_absolute_error\"\n",
    "\n",
    "metrics:modelin eğitim ve değerlendirme sırasında izlenecek performans metriklerini belirtir. accuracy, sınıflandırma problemlerinde yaygın kullanılan metriktir. diğer metrikler; precision(kesinlik),recall(duyarlılık), f1score ve auc(alan altında kalan)."
   ]
  },
  {
   "attachments": {},
   "cell_type": "markdown",
   "metadata": {},
   "source": [
    "**Eğitim işlemi**"
   ]
  },
  {
   "cell_type": "code",
   "execution_count": null,
   "metadata": {},
   "outputs": [
    {
     "name": "stdout",
     "output_type": "stream",
     "text": [
      "Epoch 1/50\n",
      "625/625 [==============================] - 360s 574ms/step - loss: 0.6259 - accuracy: 0.6435 - val_loss: 0.5443 - val_accuracy: 0.7156\n",
      "Epoch 2/50\n",
      "625/625 [==============================] - 143s 229ms/step - loss: 0.5303 - accuracy: 0.7370 - val_loss: 0.5006 - val_accuracy: 0.7494\n",
      "Epoch 3/50\n",
      "625/625 [==============================] - 147s 235ms/step - loss: 0.4837 - accuracy: 0.7663 - val_loss: 0.4674 - val_accuracy: 0.7770\n",
      "Epoch 4/50\n",
      "625/625 [==============================] - 148s 237ms/step - loss: 0.4544 - accuracy: 0.7866 - val_loss: 0.4723 - val_accuracy: 0.7728\n",
      "Epoch 5/50\n",
      "625/625 [==============================] - 142s 226ms/step - loss: 0.4316 - accuracy: 0.8003 - val_loss: 0.4219 - val_accuracy: 0.7978\n",
      "Epoch 6/50\n",
      "625/625 [==============================] - 146s 234ms/step - loss: 0.4145 - accuracy: 0.8081 - val_loss: 0.4326 - val_accuracy: 0.7950\n",
      "Epoch 7/50\n",
      "625/625 [==============================] - 145s 231ms/step - loss: 0.3991 - accuracy: 0.8183 - val_loss: 0.4194 - val_accuracy: 0.8040\n",
      "Epoch 8/50\n",
      "625/625 [==============================] - 150s 240ms/step - loss: 0.3822 - accuracy: 0.8260 - val_loss: 0.4146 - val_accuracy: 0.8126\n",
      "Epoch 9/50\n",
      "625/625 [==============================] - 150s 240ms/step - loss: 0.3692 - accuracy: 0.8345 - val_loss: 0.4164 - val_accuracy: 0.8080\n",
      "Epoch 10/50\n",
      "625/625 [==============================] - 146s 233ms/step - loss: 0.3572 - accuracy: 0.8418 - val_loss: 0.4030 - val_accuracy: 0.8180\n",
      "Epoch 11/50\n",
      "625/625 [==============================] - 145s 231ms/step - loss: 0.3450 - accuracy: 0.8493 - val_loss: 0.3883 - val_accuracy: 0.8210\n",
      "Epoch 12/50\n",
      "625/625 [==============================] - 144s 230ms/step - loss: 0.3334 - accuracy: 0.8554 - val_loss: 0.4513 - val_accuracy: 0.7988\n",
      "Epoch 13/50\n",
      "625/625 [==============================] - 143s 229ms/step - loss: 0.3212 - accuracy: 0.8615 - val_loss: 0.4090 - val_accuracy: 0.8160\n",
      "Epoch 14/50\n",
      "625/625 [==============================] - 144s 231ms/step - loss: 0.3124 - accuracy: 0.8653 - val_loss: 0.4730 - val_accuracy: 0.7862\n",
      "Epoch 15/50\n",
      "625/625 [==============================] - 143s 228ms/step - loss: 0.2990 - accuracy: 0.8715 - val_loss: 0.4010 - val_accuracy: 0.8180\n",
      "Epoch 16/50\n",
      "625/625 [==============================] - 143s 229ms/step - loss: 0.2929 - accuracy: 0.8721 - val_loss: 0.4048 - val_accuracy: 0.8256\n",
      "Epoch 17/50\n",
      "625/625 [==============================] - 150s 241ms/step - loss: 0.2780 - accuracy: 0.8803 - val_loss: 0.3946 - val_accuracy: 0.8228\n",
      "Epoch 18/50\n",
      "625/625 [==============================] - 148s 237ms/step - loss: 0.2756 - accuracy: 0.8820 - val_loss: 0.4478 - val_accuracy: 0.8212\n",
      "Epoch 19/50\n",
      "625/625 [==============================] - 98s 157ms/step - loss: 0.2592 - accuracy: 0.8915 - val_loss: 0.4228 - val_accuracy: 0.8250\n",
      "Epoch 20/50\n",
      "625/625 [==============================] - 80s 128ms/step - loss: 0.2523 - accuracy: 0.8939 - val_loss: 0.4115 - val_accuracy: 0.8300\n",
      "Epoch 21/50\n",
      "625/625 [==============================] - 77s 123ms/step - loss: 0.2402 - accuracy: 0.9006 - val_loss: 0.4014 - val_accuracy: 0.8338\n",
      "Epoch 22/50\n",
      "625/625 [==============================] - 77s 123ms/step - loss: 0.2268 - accuracy: 0.9082 - val_loss: 0.4276 - val_accuracy: 0.8316\n",
      "Epoch 23/50\n",
      "625/625 [==============================] - 77s 124ms/step - loss: 0.2306 - accuracy: 0.9068 - val_loss: 0.4574 - val_accuracy: 0.8258\n",
      "Epoch 24/50\n",
      "625/625 [==============================] - 77s 123ms/step - loss: 0.2219 - accuracy: 0.9080 - val_loss: 0.4365 - val_accuracy: 0.8310\n",
      "Epoch 25/50\n",
      "625/625 [==============================] - 76s 121ms/step - loss: 0.2081 - accuracy: 0.9143 - val_loss: 0.4989 - val_accuracy: 0.8216\n",
      "Epoch 26/50\n",
      "625/625 [==============================] - 77s 123ms/step - loss: 0.2058 - accuracy: 0.9176 - val_loss: 0.4572 - val_accuracy: 0.8234\n",
      "Epoch 27/50\n",
      "625/625 [==============================] - 80s 127ms/step - loss: 0.1912 - accuracy: 0.9230 - val_loss: 0.4567 - val_accuracy: 0.8288\n",
      "Epoch 28/50\n",
      "625/625 [==============================] - 78s 124ms/step - loss: 0.1933 - accuracy: 0.9201 - val_loss: 0.4676 - val_accuracy: 0.8220\n",
      "Epoch 29/50\n",
      "625/625 [==============================] - 77s 123ms/step - loss: 0.1825 - accuracy: 0.9258 - val_loss: 0.4537 - val_accuracy: 0.8256\n",
      "Epoch 30/50\n",
      "625/625 [==============================] - 77s 124ms/step - loss: 0.1769 - accuracy: 0.9275 - val_loss: 0.4964 - val_accuracy: 0.8122\n",
      "Epoch 31/50\n",
      "625/625 [==============================] - 76s 122ms/step - loss: 0.1681 - accuracy: 0.9331 - val_loss: 0.5042 - val_accuracy: 0.8180\n",
      "Epoch 32/50\n",
      "625/625 [==============================] - 75s 120ms/step - loss: 0.1622 - accuracy: 0.9347 - val_loss: 0.5130 - val_accuracy: 0.8162\n",
      "Epoch 33/50\n",
      "625/625 [==============================] - 76s 122ms/step - loss: 0.1624 - accuracy: 0.9374 - val_loss: 0.5441 - val_accuracy: 0.8196\n",
      "Epoch 34/50\n",
      "625/625 [==============================] - 76s 122ms/step - loss: 0.1548 - accuracy: 0.9381 - val_loss: 0.5215 - val_accuracy: 0.8246\n",
      "Epoch 35/50\n",
      "625/625 [==============================] - 78s 124ms/step - loss: 0.1465 - accuracy: 0.9427 - val_loss: 0.5656 - val_accuracy: 0.8160\n",
      "Epoch 36/50\n",
      "625/625 [==============================] - 78s 124ms/step - loss: 0.1486 - accuracy: 0.9403 - val_loss: 0.5484 - val_accuracy: 0.8140\n",
      "Epoch 37/50\n",
      "625/625 [==============================] - 79s 126ms/step - loss: 0.1454 - accuracy: 0.9421 - val_loss: 0.5451 - val_accuracy: 0.8204\n",
      "Epoch 38/50\n",
      "625/625 [==============================] - 78s 125ms/step - loss: 0.1425 - accuracy: 0.9421 - val_loss: 0.5818 - val_accuracy: 0.8080\n",
      "Epoch 39/50\n",
      "625/625 [==============================] - 76s 122ms/step - loss: 0.1277 - accuracy: 0.9499 - val_loss: 0.5842 - val_accuracy: 0.8304\n",
      "Epoch 40/50\n",
      "625/625 [==============================] - 78s 125ms/step - loss: 0.1278 - accuracy: 0.9507 - val_loss: 0.5594 - val_accuracy: 0.8236\n",
      "Epoch 41/50\n",
      "625/625 [==============================] - 79s 126ms/step - loss: 0.1285 - accuracy: 0.9498 - val_loss: 0.6329 - val_accuracy: 0.8104\n",
      "Epoch 42/50\n",
      "625/625 [==============================] - 78s 124ms/step - loss: 0.1216 - accuracy: 0.9531 - val_loss: 0.6319 - val_accuracy: 0.8170\n",
      "Epoch 43/50\n",
      "625/625 [==============================] - 78s 124ms/step - loss: 0.1288 - accuracy: 0.9506 - val_loss: 0.5953 - val_accuracy: 0.8190\n",
      "Epoch 44/50\n",
      "625/625 [==============================] - 78s 125ms/step - loss: 0.1164 - accuracy: 0.9556 - val_loss: 0.6132 - val_accuracy: 0.8190\n",
      "Epoch 45/50\n",
      "625/625 [==============================] - 78s 124ms/step - loss: 0.1194 - accuracy: 0.9543 - val_loss: 0.6077 - val_accuracy: 0.8194\n",
      "Epoch 46/50\n",
      "625/625 [==============================] - 77s 124ms/step - loss: 0.1155 - accuracy: 0.9556 - val_loss: 0.6543 - val_accuracy: 0.8162\n",
      "Epoch 47/50\n",
      "625/625 [==============================] - 77s 123ms/step - loss: 0.1122 - accuracy: 0.9567 - val_loss: 0.6514 - val_accuracy: 0.8174\n",
      "Epoch 48/50\n",
      "625/625 [==============================] - 78s 124ms/step - loss: 0.1110 - accuracy: 0.9577 - val_loss: 0.6878 - val_accuracy: 0.8242\n",
      "Epoch 49/50\n",
      "625/625 [==============================] - 77s 123ms/step - loss: 0.1133 - accuracy: 0.9576 - val_loss: 0.6364 - val_accuracy: 0.8148\n",
      "Epoch 50/50\n",
      "625/625 [==============================] - 78s 124ms/step - loss: 0.1076 - accuracy: 0.9575 - val_loss: 0.6721 - val_accuracy: 0.8192\n"
     ]
    },
    {
     "data": {
      "text/plain": [
       "<keras.callbacks.History at 0x29c55c903d0>"
      ]
     },
     "execution_count": 45,
     "metadata": {},
     "output_type": "execute_result"
    }
   ],
   "source": [
    "cnn.fit(x=training_set, validation_data=test_set,epochs=50)"
   ]
  },
  {
   "cell_type": "code",
   "execution_count": null,
   "metadata": {},
   "outputs": [
    {
     "name": "stdout",
     "output_type": "stream",
     "text": [
      "1/1 [==============================] - 0s 22ms/step\n",
      "1/1 [==============================] - 0s 16ms/step\n",
      "1/1 [==============================] - 0s 15ms/step\n",
      "1/1 [==============================] - 0s 15ms/step\n",
      "1/1 [==============================] - 0s 15ms/step\n"
     ]
    }
   ],
   "source": [
    "import numpy as np\n",
    "from keras.preprocessing import image\n",
    "import keras.utils as image\n",
    "image_paths=[\"prediction\\\\cat1.jpg\",\n",
    "             \"prediction\\\\cat2.jpg\",\n",
    "             \"prediction\\\\cat3.jpg\",\n",
    "             \"prediction\\\\dog1.jpg\",\n",
    "             \"prediction\\\\dog2.jpg\",\n",
    "             ]\n",
    "predictions=[]\n",
    "for path in image_paths:\n",
    "    test_image=image.load_img(path,target_size=(64,64))\n",
    "    test_image=image.img_to_array(test_image)\n",
    "    test_image=np.expand_dims(test_image,axis=0)\n",
    "    result=cnn.predict(test_image)\n",
    "    training_set.class_indices\n",
    "    if result[0][0]>=0.5:\n",
    "        predictions.append(\"dog\")\n",
    "    else:\n",
    "        predictions.append(\"cat\")"
   ]
  },
  {
   "attachments": {},
   "cell_type": "markdown",
   "metadata": {},
   "source": [
    "image.load_img() ve image.img_to_array() işlevlerini kullanarak bir görüntüyü yükleyip diziye dönüştürüyoruz. np.expand_dims ifadesi, test_image dizisine boyut ekler. bu boyutu axis=0 dediğimiz için 0.boyuta ekler.\n",
    "CNN modelleri genellikle bir dizi görüntüyü işler ve bu diziye \"batch\" denir.CNN modelleri için girdi verileri 4 boyutlu bir tensör olarak şekillenir. np.expand_dims ile boyut ekleriz ve şekli(1,64,64,3) olur.Bu şekilde, tek bir görüntüyü temsil eden bir batch oluştururuz ve modelin işleyebileceği girdi formatını sağlamış oluruz.\n",
    "batch, bir seferde işlenen örneklerin gruplarını ifade eder ve modelin daha verimli çalışmasına yardımcı olur.\n",
    "class_indices özelliği, eğitim veri setindeki sınıf etiketleri ile sayısal sınıf indeksleri arasındaki eşleştirmeyi içeren bir sözlük döndürür. Bu, tahmin sonuçlarını yorumlamak için kullanılır."
   ]
  },
  {
   "cell_type": "code",
   "execution_count": null,
   "metadata": {},
   "outputs": [
    {
     "name": "stdout",
     "output_type": "stream",
     "text": [
      "['cat', 'cat', 'dog', 'dog', 'dog']\n"
     ]
    }
   ],
   "source": [
    "print(predictions)"
   ]
  },
  {
   "attachments": {},
   "cell_type": "markdown",
   "metadata": {},
   "source": [
    "5 fotoğraftan birini bilemedi :) Verdiğim fotoğrafların hiçbiri training veya test'e ait fotoğraflar değildi, ayrıca gürültüsü yüksek fotoğraflar seçmiş olmama rağmen 4/5 güzel başarı oranı :)"
   ]
  },
  {
   "attachments": {},
   "cell_type": "markdown",
   "metadata": {},
   "source": [
    "**RNN (RECURRENT NEURAL NETWORK):**\n",
    "- RNN'ler dizisel verileri(metin,ses vb.) işlemek ve bu veriler arasındaki bağıntıları modellemek için kullanılan bir tür derin öğrenme modelidir.\n",
    "- RNN'ler geri besleme döngüleri sayesinde geçmiş bilgileri hatırlayabilirler ve bu nedenle zamansal bağıntıları modelleme yetenekleri vardır.\n",
    "- Tipik olarak, girdi verileri RNN hücrelerine(genellikle LSTM veya GRU hücreleri kullanılır) aktarılır ve her adımda bir sonraki adıma bir çıktı ve bir hücre durumu üretirler.\n",
    "- RNN'ler, dil modellemesi, metin üretimi, zaman serisi tahmini ve duygu analizi gibi dizisel veriler üzerinde yapısal tahminler yapmak için kullanılırlar.\n",
    "- Diğer sinir ağlarından en büyük 2 farkı, RNN'in geçmiş adımlarını hatırlaması ve diğer sinir ağlarının girdileri birbirinden bağımsızken RNN'lerde girdiler birbirleriyle ilişkilidir.\n",
    "- Kendi içerisinde de işlemer yapıldığı için, genelde çok derin RNN yapıları kurulmaz."
   ]
  },
  {
   "cell_type": "code",
   "execution_count": 15,
   "metadata": {},
   "outputs": [],
   "source": [
    "import matplotlib.pyplot as plt\n",
    "import seaborn as sns\n",
    "from keras.datasets import imdb \n",
    "from keras.preprocessing.sequence import pad_sequences\n",
    "from keras.models import Sequential\n",
    "from keras.layers import Embedding, SimpleRNN, Dense, Activation\n"
   ]
  },
  {
   "cell_type": "code",
   "execution_count": 87,
   "metadata": {},
   "outputs": [],
   "source": [
    "(xtrain,ytrain),(xtest,ytest)=imdb.load_data(path=\"ibdb.npz\",num_words=None,  #indirdiği dosyayı numpy zip olarak sıkıştırır.\n",
    "               skip_top=0,maxlen=None,seed=113,start_char=1,oov_char=2,index_from=3)          "
   ]
  },
  {
   "attachments": {},
   "cell_type": "markdown",
   "metadata": {},
   "source": [
    "skip_top=50 deseydik, en çok kullanılan kelimeler listesindeki ilk 50 kelimeyi atlamış olurduk.\n",
    "\n",
    "maxlen=Oluşturulan dizinin maksimum uzunluğu, None yapıyoruz ve hepsini alıyoruz.\n",
    "\n",
    "seed= bu parametreyi belirleyerek,veri kümersinin karıştırılması için kullanılan rastgelelik kontrol edilebilir.Aynı seed değeri kullanıldığında, her çalıştırmada aynı veri kümesi karıştırma sırası oluşur.\n",
    "\n",
    "start_char=1 olarak ayarlanmıştır. Bu, metin dizilerinin başına başlangıç karakterini eklemek için kullanılır. Başlangıç karakteri, belirli bir modelin özel bir sembol veya işaretlemeyi temsil edebilir.\n",
    "\n",
    "oov_char parametresi, veri setinde bulunmayan kelimeleri temsil etmek için kullanılan bir özel sembolün indeksini belirtir. Buradaki \"veri setinde bulunmayan kelimeler\" ifadesi, eğitim veri setindeki kelime sözlüğünde (vocabüler) bulunmayan kelimeleri ifade eder.\n",
    "\n",
    "index_from parametresi, indekslemeye başlama değerini belirtir. Varsayılan olarak, index_from=3 olarak ayarlanmıştır. Bu, indekslemeye sıfır yerine belirli bir değerden başlamak için kullanılır. Örneğin, index_from=3 olduğunda, kelime indeksleri 3'ten başlar ve 0 ve 1 indeksli özel semboller (başlangıç karakteri ve OOV karakteri) için ayrılır."
   ]
  },
  {
   "cell_type": "code",
   "execution_count": 88,
   "metadata": {},
   "outputs": [
    {
     "name": "stdout",
     "output_type": "stream",
     "text": [
      "25000\n",
      "25000\n",
      "<class 'numpy.ndarray'>\n",
      "(25000,)\n"
     ]
    }
   ],
   "source": [
    "print(len(xtrain))\n",
    "print(len(ytrain))\n",
    "print(type(xtrain))\n",
    "print(xtrain.shape)"
   ]
  },
  {
   "cell_type": "code",
   "execution_count": 89,
   "metadata": {},
   "outputs": [
    {
     "name": "stdout",
     "output_type": "stream",
     "text": [
      "1\n",
      "[0 1]\n"
     ]
    }
   ],
   "source": [
    "print(ytrain[3]) #ytrain içerisinde tahmin verilerinin sonucu var 0:olumsuz, 1:olumlu\n",
    "print(np.unique(ytrain))\n"
   ]
  },
  {
   "cell_type": "code",
   "execution_count": 90,
   "metadata": {},
   "outputs": [
    {
     "name": "stdout",
     "output_type": "stream",
     "text": [
      "{0: 12500, 1: 12500}\n"
     ]
    }
   ],
   "source": [
    "unique,counts=np.unique(ytrain,return_counts=True) #return_counts=True, her benzersiz değerin kaç kez tekrarlandığını hesaplar\n",
    "print(dict(zip(unique,counts)))\n",
    "#zip() fonksiyonu, unique ve counts dizilerini birleştirir ve her bir benzersiz değeri ve\n",
    "#tekrar sayısını içeren bir çift oluşturur. dict() bu çiftleri bir sözlüğe dönüştürür"
   ]
  },
  {
   "cell_type": "code",
   "execution_count": 91,
   "metadata": {},
   "outputs": [
    {
     "data": {
      "text/plain": [
       "Text(0.5, 1.0, 'ytrain')"
      ]
     },
     "execution_count": 91,
     "metadata": {},
     "output_type": "execute_result"
    },
    {
     "data": {
      "image/png": "[encoded data removed]",
      "text/plain": [
       "<Figure size 640x480 with 1 Axes>"
      ]
     },
     "metadata": {},
     "output_type": "display_data"
    }
   ],
   "source": [
    "plt.figure()\n",
    "sns.countplot(x=ytrain)\n",
    "plt.xlabel(\"Benzersiz değerler\")\n",
    "plt.ylabel(\"Tekrar sayıları\")\n",
    "plt.title(\"ytrain\")"
   ]
  },
  {
   "cell_type": "code",
   "execution_count": 95,
   "metadata": {},
   "outputs": [
    {
     "data": {
      "text/plain": [
       "[68, 260, 603, 181, 108]"
      ]
     },
     "execution_count": 95,
     "metadata": {},
     "output_type": "execute_result"
    }
   ],
   "source": [
    "#train ve test verilerinde kaçar tane kelime var buna bakacağız.1.yorumun kelime sayısı,2.yorumun...vb)\n",
    "review_len_train=[]\n",
    "review_len_test=[]\n",
    "\n",
    "for i,j in zip(xtrain,xtest):\n",
    "    review_len_train.append(len(i))\n",
    "    review_len_test.append(len(j))\n",
    "review_len_test[:5]"
   ]
  },
  {
   "attachments": {},
   "cell_type": "markdown",
   "metadata": {},
   "source": [
    "distploat fonksiyonu, veri dağılımını görselleştirmek için kullanılır.histogram üzerine bir yoğunluk grafiği çizer.Yoğunluk grafiği, veri kümesinin dağılımını daha yumuşak bir şekilde gösterir ve histogramla birlikte kullanıldığında verinin dağılımını daha iyi anlamamıza yardımcı olur.\n",
    "hist_kws, histogramın opaklığını(alpha) ayarlamak için kullanılır."
   ]
  },
  {
   "cell_type": "code",
   "execution_count": null,
   "metadata": {},
   "outputs": [
    {
     "name": "stderr",
     "output_type": "stream",
     "text": [
      "C:\\Users\\Ertuğrul\\AppData\\Local\\Temp\\ipykernel_23020\\3009079399.py:1: UserWarning: \n",
      "\n",
      "`distplot` is a deprecated function and will be removed in seaborn v0.14.0.\n",
      "\n",
      "Please adapt your code to use either `displot` (a figure-level function with\n",
      "similar flexibility) or `histplot` (an axes-level function for histograms).\n",
      "\n",
      "For a guide to updating your code to use the new functions, please see\n",
      "https://gist.github.com/mwaskom/de44147ed2974457ad6372750bbe5751\n",
      "\n",
      "  sns.distplot(review_len_train,hist_kws={\"alpha\":0.3})\n",
      "C:\\Users\\Ertuğrul\\AppData\\Local\\Temp\\ipykernel_23020\\3009079399.py:2: UserWarning: \n",
      "\n",
      "`distplot` is a deprecated function and will be removed in seaborn v0.14.0.\n",
      "\n",
      "Please adapt your code to use either `displot` (a figure-level function with\n",
      "similar flexibility) or `histplot` (an axes-level function for histograms).\n",
      "\n",
      "For a guide to updating your code to use the new functions, please see\n",
      "https://gist.github.com/mwaskom/de44147ed2974457ad6372750bbe5751\n",
      "\n",
      "  sns.distplot(review_len_test,hist_kws={\"alpha\":0.3})\n"
     ]
    },
    {
     "data": {
      "text/plain": [
       "<Axes: ylabel='Density'>"
      ]
     },
     "execution_count": 16,
     "metadata": {},
     "output_type": "execute_result"
    },
    {
     "data": {
      "image/png": "[encoded data removed]",
      "text/plain": [
       "<Figure size 640x480 with 1 Axes>"
      ]
     },
     "metadata": {},
     "output_type": "display_data"
    }
   ],
   "source": [
    "sns.distplot(review_len_train,hist_kws={\"alpha\":0.3})\n",
    "sns.distplot(review_len_test,hist_kws={\"alpha\":0.3})"
   ]
  },
  {
   "attachments": {},
   "cell_type": "markdown",
   "metadata": {},
   "source": [
    "mod,medyan,mean değerlerini kullanarak veri setini yorumlayalım."
   ]
  },
  {
   "cell_type": "code",
   "execution_count": null,
   "metadata": {},
   "outputs": [
    {
     "name": "stdout",
     "output_type": "stream",
     "text": [
      "xtrain mean:  238.71364\n",
      "xtrain median:  178.0\n",
      "xtest mean:  230.8042\n",
      "xtest median:  174.0\n"
     ]
    }
   ],
   "source": [
    "print(\"xtrain mean: \",np.mean(review_len_train))\n",
    "print(\"xtrain median: \",np.median(review_len_train))\n",
    "print(\"xtest mean: \",np.mean(review_len_test))\n",
    "print(\"xtest median: \",np.median(review_len_test))"
   ]
  },
  {
   "cell_type": "code",
   "execution_count": null,
   "metadata": {},
   "outputs": [
    {
     "name": "stdout",
     "output_type": "stream",
     "text": [
      "train mode:  ModeResult(mode=array([132]), count=array([196]))\n"
     ]
    },
    {
     "name": "stderr",
     "output_type": "stream",
     "text": [
      "C:\\Users\\Ertuğrul\\AppData\\Local\\Temp\\ipykernel_23020\\2869896472.py:2: FutureWarning: Unlike other reduction functions (e.g. `skew`, `kurtosis`), the default behavior of `mode` typically preserves the axis it acts along. In SciPy 1.11.0, this behavior will change: the default value of `keepdims` will become False, the `axis` over which the statistic is taken will be eliminated, and the value None will no longer be accepted. Set `keepdims` to True or False to avoid this warning.\n",
      "  print(\"train mode: \",stats.mode(review_len_train))\n"
     ]
    }
   ],
   "source": [
    "from scipy import stats\n",
    "print(\"train mode: \",stats.mode(review_len_train))"
   ]
  },
  {
   "attachments": {},
   "cell_type": "markdown",
   "metadata": {},
   "source": [
    "ıkırpma işlemimizi yaparken 130 ile sınırlandıracaz, yani 5 kelimelik yorumda 500 kelimelik yorumu da 130a çekeceğiz."
   ]
  },
  {
   "cell_type": "code",
   "execution_count": null,
   "metadata": {},
   "outputs": [
    {
     "name": "stdout",
     "output_type": "stream",
     "text": [
      "88584\n"
     ]
    },
    {
     "data": {
      "text/plain": [
       "1"
      ]
     },
     "execution_count": 26,
     "metadata": {},
     "output_type": "execute_result"
    }
   ],
   "source": [
    "word_index=imdb.get_word_index() #dict\n",
    "print(len(word_index))\n",
    "word_index[\"the\"]"
   ]
  },
  {
   "cell_type": "code",
   "execution_count": null,
   "metadata": {},
   "outputs": [
    {
     "name": "stdout",
     "output_type": "stream",
     "text": [
      "and\n"
     ]
    }
   ],
   "source": [
    "for keys,values in word_index.items():\n",
    "    if values==2:\n",
    "        print(keys)"
   ]
  },
  {
   "cell_type": "code",
   "execution_count": null,
   "metadata": {},
   "outputs": [],
   "source": [
    "def whatis(index):\n",
    "    reverse_index=dict([(value,key)for (key,value) in word_index.items()])\n",
    "    decode_review=\" \".join([reverse_index.get(i-3,\"!\") for i in xtrain[index]])\n",
    "    print(ytrain[index])\n",
    "    return decode_review "
   ]
  },
  {
   "cell_type": "code",
   "execution_count": null,
   "metadata": {},
   "outputs": [
    {
     "name": "stdout",
     "output_type": "stream",
     "text": [
      "0\n"
     ]
    },
    {
     "data": {
      "text/plain": [
       "\"! begins better than it ends funny that the russian submarine crew outperforms all other actors it's like those scenes where documentary shots br br spoiler part the message dechifered was contrary to the whole story it just does not mesh br br\""
      ]
     },
     "execution_count": 45,
     "metadata": {},
     "output_type": "execute_result"
    }
   ],
   "source": [
    "decoded_review=whatis(5)\n",
    "\n",
    "decoded_review\n"
   ]
  },
  {
   "cell_type": "code",
   "execution_count": null,
   "metadata": {},
   "outputs": [
    {
     "name": "stdout",
     "output_type": "stream",
     "text": [
      "130\n",
      "130\n",
      "130\n",
      "130\n",
      "130\n",
      "130\n",
      "130\n",
      "130\n",
      "130\n",
      "130\n"
     ]
    }
   ],
   "source": [
    "num_words=15000\n",
    "maxlen=130\n",
    "(xtrain,ytrain),(xtest,ytest)=imdb.load_data(num_words=num_words)\n",
    "xtrain=pad_sequences(xtrain,maxlen=maxlen)\n",
    "xtest=pad_sequences(xtest,maxlen=maxlen)\n",
    "for i in xtrain[0:10]:\n",
    "    print(len(i))\n"
   ]
  },
  {
   "cell_type": "code",
   "execution_count": null,
   "metadata": {},
   "outputs": [],
   "source": [
    "rnn=Sequential()\n",
    "rnn.add(Embedding(num_words,32,input_length=len(xtrain[0])))"
   ]
  },
  {
   "attachments": {},
   "cell_type": "markdown",
   "metadata": {},
   "source": [
    "rnn modeli oluşturduk.Embedding katmanı, kelime gömme işlemini gerçekleştirir.Kelimeleri sabit boyutlu sayısal vektörlere dönüştürerek kelime temsillerini öğrenir.\n",
    "\n",
    "num_words, kullanılacak kelime sözlüğünün toplam kelime sayısını temsil eder.\n",
    "\n",
    "32,gömme vektörlerinin boyutunu belirtir.Her bir kelimenin gömme vektörü 32 boyutlu olacaktır.\n",
    "\n",
    "input_length,giriş dizilerinin uzunluğunu belirtir.metin örneklerinin sabit bir uzunluğa sahip olmasını sağlar.\n",
    "\n",
    "  Embedding katmanı, metin verilerini sayısal temsillerine dönüştürmek için kullanılır. Bu sayısal temsiller, ardından RNN katmanında işlenebilir."
   ]
  },
  {
   "cell_type": "code",
   "execution_count": null,
   "metadata": {},
   "outputs": [],
   "source": [
    "rnn.add(SimpleRNN(16,input_shape=(num_words,maxlen),return_sequences=False,activation=\"relu\"))"
   ]
  },
  {
   "attachments": {},
   "cell_type": "markdown",
   "metadata": {},
   "source": [
    "16 gizli birim içerir.\n",
    "\n",
    "return_sequence=False parametresinde katman sadece son zaman adımında bir çıktı döndürür.Bu, bir sonraki katmana yalnızca son zaman adımındaki çıktının geçeceği anlamına gelir.Diğer zaman adımlarındaki çıktılar atılır ve yalnızca son zaman adımındaki çıktı kullanılır."
   ]
  },
  {
   "cell_type": "code",
   "execution_count": null,
   "metadata": {},
   "outputs": [
    {
     "name": "stdout",
     "output_type": "stream",
     "text": [
      "Model: \"sequential_3\"\n",
      "_________________________________________________________________\n",
      " Layer (type)                Output Shape              Param #   \n",
      "=================================================================\n",
      " embedding_2 (Embedding)     (None, 130, 32)           480000    \n",
      "                                                                 \n",
      " simple_rnn_3 (SimpleRNN)    (None, 16)                784       \n",
      "                                                                 \n",
      " dense (Dense)               (None, 1)                 17        \n",
      "                                                                 \n",
      " activation (Activation)     (None, 1)                 0         \n",
      "                                                                 \n",
      "=================================================================\n",
      "Total params: 480801 (1.83 MB)\n",
      "Trainable params: 480801 (1.83 MB)\n",
      "Non-trainable params: 0 (0.00 Byte)\n",
      "_________________________________________________________________\n",
      "None\n"
     ]
    }
   ],
   "source": [
    "rnn.add(Dense(1))\n",
    "rnn.add(Activation(\"sigmoid\"))\n",
    "print(rnn.summary())\n",
    "rnn.compile(loss=\"binary_crossentropy\",optimizer=\"rmsprop\",metrics=[\"accuracy\"])"
   ]
  },
  {
   "cell_type": "code",
   "execution_count": null,
   "metadata": {},
   "outputs": [
    {
     "name": "stdout",
     "output_type": "stream",
     "text": [
      "Epoch 1/5\n",
      "196/196 [==============================] - 5s 20ms/step - loss: 0.6021 - accuracy: 0.6848 - val_loss: 0.4514 - val_accuracy: 0.8280\n",
      "Epoch 2/5\n",
      "196/196 [==============================] - 4s 21ms/step - loss: 0.4028 - accuracy: 0.8310 - val_loss: 0.3870 - val_accuracy: 0.8402\n",
      "Epoch 3/5\n",
      "196/196 [==============================] - 4s 20ms/step - loss: 0.3238 - accuracy: 0.8672 - val_loss: 0.3315 - val_accuracy: 0.8598\n",
      "Epoch 4/5\n",
      "196/196 [==============================] - 4s 21ms/step - loss: 0.2835 - accuracy: 0.8849 - val_loss: 0.3764 - val_accuracy: 0.8416\n",
      "Epoch 5/5\n",
      "196/196 [==============================] - 4s 21ms/step - loss: 0.2510 - accuracy: 0.9006 - val_loss: 0.3374 - val_accuracy: 0.8516\n"
     ]
    }
   ],
   "source": [
    "history=rnn.fit(xtrain,ytrain,validation_data=(xtest,ytest),epochs=5,batch_size=128,verbose=1)"
   ]
  },
  {
   "cell_type": "code",
   "execution_count": null,
   "metadata": {},
   "outputs": [
    {
     "name": "stdout",
     "output_type": "stream",
     "text": [
      "782/782 [==============================] - 3s 3ms/step - loss: 0.3374 - accuracy: 0.8516\n",
      "accuracy:  85.15599966049194\n"
     ]
    }
   ],
   "source": [
    "score=rnn.evaluate(xtest,ytest)\n",
    "print(\"accuracy: \",score[1]*100)"
   ]
  },
  {
   "cell_type": "code",
   "execution_count": 83,
   "metadata": {},
   "outputs": [
    {
     "data": {
      "text/plain": [
       "{'loss': [0.6020887494087219,\n",
       "  0.40282487869262695,\n",
       "  0.3238118886947632,\n",
       "  0.28346964716911316,\n",
       "  0.2509884834289551],\n",
       " 'accuracy': [0.6848400235176086,\n",
       "  0.8310400247573853,\n",
       "  0.8672000169754028,\n",
       "  0.884880006313324,\n",
       "  0.900600016117096],\n",
       " 'val_loss': [0.45143815875053406,\n",
       "  0.38703155517578125,\n",
       "  0.3315424621105194,\n",
       "  0.37640780210494995,\n",
       "  0.3374091386795044],\n",
       " 'val_accuracy': [0.828000009059906,\n",
       "  0.8402000069618225,\n",
       "  0.8598399758338928,\n",
       "  0.8416000008583069,\n",
       "  0.8515599966049194]}"
      ]
     },
     "execution_count": 83,
     "metadata": {},
     "output_type": "execute_result"
    },
    {
     "data": {
      "image/png": "[encoded data removed]",
      "text/plain": [
       "<Figure size 640x480 with 1 Axes>"
      ]
     },
     "metadata": {},
     "output_type": "display_data"
    }
   ],
   "source": [
    "plt.figure()\n",
    "plt.plot(history.history[\"accuracy\"],label=\"Train\")\n",
    "plt.plot(history.history[\"val_accuracy\"],label=\"Test\")\n",
    "plt.title(\"acc\")\n",
    "plt.xlabel(\"epoch\")\n",
    "plt.ylabel(\"acc\")\n",
    "plt.legend()\n",
    "history.history"
   ]
  },
  {
   "cell_type": "code",
   "execution_count": 69,
   "metadata": {},
   "outputs": [
    {
     "data": {
      "text/plain": [
       "<matplotlib.legend.Legend at 0x172bdd5ab60>"
      ]
     },
     "execution_count": 69,
     "metadata": {},
     "output_type": "execute_result"
    },
    {
     "data": {
      "image/png": "[encoded data removed]",
      "text/plain": [
       "<Figure size 640x480 with 1 Axes>"
      ]
     },
     "metadata": {},
     "output_type": "display_data"
    }
   ],
   "source": [
    "plt.figure()\n",
    "plt.plot(history.history[\"loss\"],label=\"Train\")\n",
    "plt.plot(history.history[\"val_loss\"],label=\"Test\")\n",
    "plt.title(\"acc\")\n",
    "plt.xlabel(\"epoch\")\n",
    "plt.ylabel(\"acc\")\n",
    "plt.legend()"
   ]
  },
  {
   "attachments": {},
   "cell_type": "markdown",
   "metadata": {},
   "source": [
    "----------------------------------------------------------------------------------------------------------------------------------------------------------------------------------\n",
    "\n",
    "**LSTM**"
   ]
  },
  {
   "attachments": {},
   "cell_type": "markdown",
   "metadata": {},
   "source": [
    "LSTM (Long-Short-Term-Memory)(Uzun Kısa Süreli Bellek), bir tür yapay sinir ağı modelidir ve RNN'lerin bir özelliğidir. LSTM, özellikle zaman serisi verileri ve doğal dil işleme gibi ardışık verilerin modellemesinde kullanılır. LSTM'i RNN'den ayıran özellikler;\n",
    "\n",
    "- Hafıza: LSTM'in temel amacı, önceki girdi bilgilerini hatırlamaktır. RNN'lerde, girdi bilgileri geçmişten geçtiğinde bu bilgiler genellikle kaybolur.Ancak LSTM, \"hafıza hücres\" adı verilen bir mekanizma kullanarak bu geçmiş bilgileri saklayabilir. Bu hücre, içerisindeki çeşitli kapılar sayesinde bilginin ne kadarının güncellenmesi, silinmesi veya geçiştirilmesi gerektiğini kontrol eder.\n",
    "\n",
    "- Uzun mesafeli bağlantılar: LSTM, uzun mesafeli bağlantıların korunmasını sağlayarak RNN'lerin sık karşılaştığı \"uzun bağımlılık sorunu\" kavramını çözer. Uzun bağımlılık, geçmiş girdilerin gelecekteki çıktılara etkisini anlamlandırmayı zorlaştırır. LSTM, bu sorunu hafıza hücreleri ve kapı mekanizmalarıyla çözer.\n",
    "\n",
    "- Kapı mekanizmaları: LSTM'in önemli bir özelliği, kapı mekanizmalarını kullanmasıdır. Bu mekanizmalar, bilginin akışını kontrol ederek girdi bilgilerinin nasıl işleneceğini belirler. Üç temel kapı vardır: Unutma,giriş ve çıkış kapısı. Bu kapılar hafıza hücresinin içeriği üzerinde etkili bir şekilde kontrol sağlar ve LSTM'in esnek ve dinamik bir şekilde veriyi işlemesini sağlar.\n",
    "\n",
    "RNN'lerin uzun bağımlılık sorununun sebebi, her adımda geriye doğru geçmiş bilgilerin etkisinin türev zinciri ile çarpılarak iletilmesidir.Bu çarpma işlemi, gradient değerlerini zamanla küçültür ve bazen tamamen sıfıra yaklaştırır.Bu yüzden LSTM bu uzun bağımlılık sorununu çözmek için tasarlanmış bir RNN türüdür."
   ]
  },
  {
   "attachments": {},
   "cell_type": "markdown",
   "metadata": {},
   "source": [
    "LSTM, özellikle uzun vadeli bağımlılıkların önemli olduğu veri setlerinde etkilidir.Örneğin,metin tahmini,dil çevirisi, konuşma tanıma ve hisse senedi fiyat tahmini gibi alanlarda sıklıkla kullanılır. Ayrıca, zaman serileri verileriyle çalışırken LSTM, önceki zaman adımlarının etkilerini yakalamak için ideal bir seçenektir."
   ]
  },
  {
   "attachments": {},
   "cell_type": "markdown",
   "metadata": {},
   "source": [
    "Aşağıda bir zaman serisi örneği ile LSTM modelini inceleyelim."
   ]
  },
  {
   "cell_type": "code",
   "execution_count": 16,
   "metadata": {},
   "outputs": [],
   "source": [
    "from tensorflow.keras.layers import LSTM\n",
    "from sklearn.preprocessing import MinMaxScaler"
   ]
  },
  {
   "cell_type": "code",
   "execution_count": 17,
   "metadata": {},
   "outputs": [],
   "source": [
    "data=pd.read_csv(r\"C:/Users/Ertuğrul/Desktop/Veri Bilimi ve Makine Öğrenmesi (BTK)/Makine Öğrenmesi/AirPassengers.csv\")"
   ]
  },
  {
   "cell_type": "code",
   "execution_count": 18,
   "metadata": {},
   "outputs": [
    {
     "data": {
      "text/html": [
       "<div>\n",
       "<style scoped>\n",
       "    .dataframe tbody tr th:only-of-type {\n",
       "        vertical-align: middle;\n",
       "    }\n",
       "\n",
       "    .dataframe tbody tr th {\n",
       "        vertical-align: top;\n",
       "    }\n",
       "\n",
       "    .dataframe thead th {\n",
       "        text-align: right;\n",
       "    }\n",
       "</style>\n",
       "<table border=\"1\" class=\"dataframe\">\n",
       "  <thead>\n",
       "    <tr style=\"text-align: right;\">\n",
       "      <th></th>\n",
       "      <th>Month</th>\n",
       "      <th>#Passengers</th>\n",
       "    </tr>\n",
       "  </thead>\n",
       "  <tbody>\n",
       "    <tr>\n",
       "      <th>0</th>\n",
       "      <td>1949-01</td>\n",
       "      <td>112</td>\n",
       "    </tr>\n",
       "    <tr>\n",
       "      <th>1</th>\n",
       "      <td>1949-02</td>\n",
       "      <td>118</td>\n",
       "    </tr>\n",
       "    <tr>\n",
       "      <th>2</th>\n",
       "      <td>1949-03</td>\n",
       "      <td>132</td>\n",
       "    </tr>\n",
       "    <tr>\n",
       "      <th>3</th>\n",
       "      <td>1949-04</td>\n",
       "      <td>129</td>\n",
       "    </tr>\n",
       "    <tr>\n",
       "      <th>4</th>\n",
       "      <td>1949-05</td>\n",
       "      <td>121</td>\n",
       "    </tr>\n",
       "  </tbody>\n",
       "</table>\n",
       "</div>"
      ],
      "text/plain": [
       "     Month  #Passengers\n",
       "0  1949-01          112\n",
       "1  1949-02          118\n",
       "2  1949-03          132\n",
       "3  1949-04          129\n",
       "4  1949-05          121"
      ]
     },
     "execution_count": 18,
     "metadata": {},
     "output_type": "execute_result"
    }
   ],
   "source": [
    "data.head()"
   ]
  },
  {
   "cell_type": "code",
   "execution_count": 19,
   "metadata": {},
   "outputs": [
    {
     "data": {
      "image/png": "[encoded data removed]",
      "text/plain": [
       "<Figure size 640x480 with 1 Axes>"
      ]
     },
     "metadata": {},
     "output_type": "display_data"
    }
   ],
   "source": [
    "data=data[\"#Passengers\"]\n",
    "plt.plot(data)\n",
    "plt.show()"
   ]
  },
  {
   "cell_type": "code",
   "execution_count": 20,
   "metadata": {},
   "outputs": [],
   "source": [
    "data=np.array(data).reshape(-1,1)\n",
    "sc=MinMaxScaler()\n",
    "data=sc.fit_transform(data)"
   ]
  },
  {
   "cell_type": "markdown",
   "metadata": {},
   "source": [
    "Verilerimizi train ve test olarak ayırırken rastgele ayıramayız. Örneğin ilk 100 veriyi train diğer 44 veriyi test olarak alacağız, çünkü ilk 3 veriye bakarak(steps=) 4.veriyi tahmin edicek. sonra 3lü 3lü bakarak bir sonrakini tahmin ederek train işlemini gerçekleştirmiş olacak."
   ]
  },
  {
   "cell_type": "code",
   "execution_count": 21,
   "metadata": {},
   "outputs": [],
   "source": [
    "train=data[0:100,:]\n",
    "test=data[100:,:]"
   ]
  },
  {
   "cell_type": "code",
   "execution_count": 24,
   "metadata": {},
   "outputs": [],
   "source": [
    "def veri(data,steps):\n",
    "    datax=[]\n",
    "    datay=[]\n",
    "    for i in range(len(data)-steps-1):\n",
    "        a=data[i:(i+steps),0]\n",
    "        datax.append(a)\n",
    "        datay.append(data[i+steps,0])\n",
    "\n",
    "    return np.array(datax),np.array(datay)"
   ]
  },
  {
   "cell_type": "code",
   "execution_count": 25,
   "metadata": {},
   "outputs": [],
   "source": [
    "steps=3\n",
    "xtrain2,ytrain2=veri(train,steps)\n",
    "xtest2,ytest2=veri(test,steps)\n",
    "\n"
   ]
  },
  {
   "cell_type": "markdown",
   "metadata": {},
   "source": [
    "Veri setinin boyutunu yeniden şekillendirip LSTM modeline uygun hale getireceğiz. LSTM modelinde girdi verilerinin üç boyutlu bir yapıya sahip olması gerekir.(örnek sayısı, zaman adımları, özellik sayısı)"
   ]
  },
  {
   "cell_type": "code",
   "execution_count": 26,
   "metadata": {},
   "outputs": [],
   "source": [
    "xtrain2=np.reshape(xtrain2,(xtrain2.shape[0],1,xtrain2.shape[1]))\n",
    "xtest2=np.reshape(xtest2,(xtest2.shape[0],1,xtest2.shape[1]))"
   ]
  },
  {
   "cell_type": "code",
   "execution_count": 27,
   "metadata": {},
   "outputs": [],
   "source": [
    "model=Sequential()\n",
    "model.add(LSTM(128,input_shape=(1,steps)))\n",
    "model.add(Dense(64))\n",
    "model.add(Dense(1))\n",
    "model.compile(loss=\"mean_squared_error\",optimizer=\"adam\")"
   ]
  },
  {
   "cell_type": "markdown",
   "metadata": {},
   "source": [
    "128,LSTM hücrelerinin sayısını belirtir.input_shape parametresi ise modelin giriş veri şeklini tanımlar.Burada, giriş veri setinin boyutu(1,steps) olarak belirtilir.\"1\" zaman adımı ve\"steps\"özellik sayısını ifade eder."
   ]
  },
  {
   "cell_type": "code",
   "execution_count": 28,
   "metadata": {},
   "outputs": [
    {
     "name": "stdout",
     "output_type": "stream",
     "text": [
      "Model: \"sequential_1\"\n",
      "_________________________________________________________________\n",
      " Layer (type)                Output Shape              Param #   \n",
      "=================================================================\n",
      " lstm (LSTM)                 (None, 128)               67584     \n",
      "                                                                 \n",
      " dense_3 (Dense)             (None, 64)                8256      \n",
      "                                                                 \n",
      " dense_4 (Dense)             (None, 1)                 65        \n",
      "                                                                 \n",
      "=================================================================\n",
      "Total params: 75905 (296.50 KB)\n",
      "Trainable params: 75905 (296.50 KB)\n",
      "Non-trainable params: 0 (0.00 Byte)\n",
      "_________________________________________________________________\n"
     ]
    }
   ],
   "source": [
    "model.summary()"
   ]
  },
  {
   "cell_type": "code",
   "execution_count": 29,
   "metadata": {},
   "outputs": [
    {
     "name": "stdout",
     "output_type": "stream",
     "text": [
      "Epoch 1/20\n",
      "96/96 [==============================] - 1s 1ms/step - loss: 0.0111\n",
      "Epoch 2/20\n",
      "96/96 [==============================] - 0s 1ms/step - loss: 0.0043\n",
      "Epoch 3/20\n",
      "96/96 [==============================] - 0s 1ms/step - loss: 0.0039\n",
      "Epoch 4/20\n",
      "96/96 [==============================] - 0s 1ms/step - loss: 0.0032\n",
      "Epoch 5/20\n",
      "96/96 [==============================] - 0s 1ms/step - loss: 0.0031\n",
      "Epoch 6/20\n",
      "96/96 [==============================] - 0s 1ms/step - loss: 0.0041\n",
      "Epoch 7/20\n",
      "96/96 [==============================] - 0s 1ms/step - loss: 0.0030\n",
      "Epoch 8/20\n",
      "96/96 [==============================] - 0s 1ms/step - loss: 0.0026\n",
      "Epoch 9/20\n",
      "96/96 [==============================] - 0s 1ms/step - loss: 0.0032\n",
      "Epoch 10/20\n",
      "96/96 [==============================] - 0s 1ms/step - loss: 0.0030\n",
      "Epoch 11/20\n",
      "96/96 [==============================] - 0s 1ms/step - loss: 0.0029\n",
      "Epoch 12/20\n",
      "96/96 [==============================] - 0s 1ms/step - loss: 0.0031\n",
      "Epoch 13/20\n",
      "96/96 [==============================] - 0s 1ms/step - loss: 0.0027\n",
      "Epoch 14/20\n",
      "96/96 [==============================] - 0s 1ms/step - loss: 0.0026\n",
      "Epoch 15/20\n",
      "96/96 [==============================] - 0s 1ms/step - loss: 0.0030\n",
      "Epoch 16/20\n",
      "96/96 [==============================] - 0s 1ms/step - loss: 0.0027\n",
      "Epoch 17/20\n",
      "96/96 [==============================] - 0s 1ms/step - loss: 0.0026\n",
      "Epoch 18/20\n",
      "96/96 [==============================] - 0s 2ms/step - loss: 0.0025\n",
      "Epoch 19/20\n",
      "96/96 [==============================] - 0s 1ms/step - loss: 0.0025\n",
      "Epoch 20/20\n",
      "96/96 [==============================] - 0s 1ms/step - loss: 0.0028\n"
     ]
    },
    {
     "data": {
      "text/plain": [
       "<keras.src.callbacks.History at 0x1f0b654b9a0>"
      ]
     },
     "execution_count": 29,
     "metadata": {},
     "output_type": "execute_result"
    }
   ],
   "source": [
    "model.fit(xtrain2,ytrain2,epochs=20,batch_size=1)"
   ]
  },
  {
   "cell_type": "code",
   "execution_count": 31,
   "metadata": {},
   "outputs": [
    {
     "name": "stdout",
     "output_type": "stream",
     "text": [
      "2/2 [==============================] - 0s 3ms/step\n"
     ]
    },
    {
     "data": {
      "image/png": "[encoded data removed]",
      "text/plain": [
       "<Figure size 640x480 with 1 Axes>"
      ]
     },
     "metadata": {},
     "output_type": "display_data"
    }
   ],
   "source": [
    "ypred2=model.predict(xtest2)\n",
    "ypred2=sc.inverse_transform(ypred2)\n",
    "ytest2=ytest2.reshape(-1,1) \n",
    "ytest2=sc.inverse_transform(ytest2)\n",
    "\n",
    "plt.plot(ytest2,label=\"gerçek yolcu\")\n",
    "plt.plot(ypred2,label=\"tahmini yolcu\")\n",
    "plt.xlabel(\"hafta\")\n",
    "plt.ylabel(\"yolcu sayısı\")\n",
    "plt.legend()\n",
    "plt.show()"
   ]
  }
 ],
 "metadata": {
  "kernelspec": {
   "display_name": "base",
   "language": "python",
   "name": "python3"
  },
  "language_info": {
   "codemirror_mode": {
    "name": "ipython",
    "version": 3
   },
   "file_extension": ".py",
   "mimetype": "text/x-python",
   "name": "python",
   "nbconvert_exporter": "python",
   "pygments_lexer": "ipython3",
   "version": "3.10.9"
  },
  "orig_nbformat": 4
 },
 "nbformat": 4,
 "nbformat_minor": 2
}
